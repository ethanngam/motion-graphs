{
 "cells": [
  {
   "cell_type": "code",
   "execution_count": 29,
   "metadata": {},
   "outputs": [],
   "source": [
    "import math\n",
    "import numpy as np\n",
    "import pandas as pd\n",
    "from matplotlib import pyplot as plt"
   ]
  },
  {
   "cell_type": "code",
   "execution_count": 42,
   "metadata": {},
   "outputs": [
    {
     "data": {
      "image/png": "[encoded data removed]",
      "text/plain": [
       "<Figure size 432x288 with 1 Axes>"
      ]
     },
     "metadata": {
      "needs_background": "light"
     },
     "output_type": "display_data"
    }
   ],
   "source": [
    "### Circle Path\n",
    "\n",
    "# Parametric equation\n",
    "def circle(r, x0, y0, t):\n",
    "    x = x0 + r * np.cos(t)\n",
    "    y = y0 + r * np.sin(t)\n",
    "    return x, y\n",
    "\n",
    "# Settings\n",
    "resolution = 360\n",
    "radius = 100\n",
    "x0 = 0\n",
    "y0 = 0\n",
    "\n",
    "# Generate circle\n",
    "circle_path = [circle(radius, x0, y0, t) for t in np.linspace(0, 2 * math.pi, resolution)]\n",
    "circle_path = list(zip(*circle_path))\n",
    "\n",
    "# Plot\n",
    "x = circle_path[0]\n",
    "y = circle_path[1]\n",
    "\n",
    "plt.scatter(x, y)\n",
    "plt.show()\n",
    "\n",
    "# Save to file\n",
    "directory = \"../Motion Graphs Project/data/paths/\"\n",
    "filename = \"circle_\"+ str(radius) + \"_\"+ str(resolution) +\".path\"\n",
    "path = directory + filename\n",
    "\n",
    "df = pd.DataFrame(circle_path).T\n",
    "df.to_csv(path, sep=\" \", header=False, index=False)"
   ]
  },
  {
   "cell_type": "code",
   "execution_count": 45,
   "metadata": {},
   "outputs": [
    {
     "data": {
      "text/plain": [
       "3.023808945695402"
      ]
     },
     "execution_count": 45,
     "metadata": {},
     "output_type": "execute_result"
    }
   ],
   "source": [
    "t = 1\n",
    "np.exp(np.cos(t)) - 2 * np.cos(4*t) - math.pow(np.sin(t/12), 5)"
   ]
  },
  {
   "cell_type": "code",
   "execution_count": null,
   "metadata": {},
   "outputs": [],
   "source": [
    "### Butterfly curve\n",
    "\n",
    "# Parametric equation\n",
    "def butterfly(t):\n",
    "    temp = np.exp(np.cos(t)) - 2 * np.cos(4*t) - math.pow(np.sin(t/12), 5)\n",
    "    x = np.sin(t * temp)\n",
    "    y = np.cos(t * temp)\n",
    "\n",
    "# Settings\n",
    "resolution = 360\n",
    "radius = 100\n",
    "x0 = 0\n",
    "y0 = 0\n",
    "\n",
    "# Generate circle\n",
    "circle_path = [circle(radius, x0, y0, t) for t in np.linspace(0, 2 * math.pi, resolution)]\n",
    "circle_path = list(zip(*circle_path))\n",
    "\n",
    "# Plot\n",
    "x = circle_path[0]\n",
    "y = circle_path[1]\n",
    "\n",
    "plt.scatter(x, y)\n",
    "plt.show()\n",
    "\n",
    "# Save to file\n",
    "directory = \"../Motion Graphs Project/data/paths/\"\n",
    "filename = \"circle_\"+ str(radius) + \"_\"+ str(resolution) +\".path\"\n",
    "path = directory + filename\n",
    "\n",
    "df = pd.DataFrame(circle_path).T\n",
    "df.to_csv(path, sep=\" \", header=False, index=False)"
   ]
  }
 ],
 "metadata": {
  "kernelspec": {
   "display_name": "Python 3",
   "language": "python",
   "name": "python3"
  },
  "language_info": {
   "codemirror_mode": {
    "name": "ipython",
    "version": 3
   },
   "file_extension": ".py",
   "mimetype": "text/x-python",
   "name": "python",
   "nbconvert_exporter": "python",
   "pygments_lexer": "ipython3",
   "version": "3.8.5"
  }
 },
 "nbformat": 4,
 "nbformat_minor": 4
}
